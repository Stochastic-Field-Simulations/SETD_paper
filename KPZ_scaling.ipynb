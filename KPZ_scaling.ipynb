{
 "cells": [
  {
   "cell_type": "code",
   "execution_count": null,
   "metadata": {},
   "outputs": [],
   "source": [
    "from SFS.src.py.utils import *\n",
    "from numpy.fft import fft2, ifft, ifft2, fft, fftfreq, fftshift, ifftshift, rfftfreq, rfft2\n",
    "from IPython.display import HTML"
   ]
  },
  {
   "cell_type": "code",
   "execution_count": null,
   "metadata": {},
   "outputs": [],
   "source": [
    "number = 5\n",
    "folder = \"data/SETD1/{n}/\".format(n=number)\n",
    "folder = \"data/SETD_paper/{n}/\".format(n=number)\n",
    "num = count_files(folder)\n",
    "print(num)"
   ]
  },
  {
   "cell_type": "code",
   "execution_count": null,
   "metadata": {},
   "outputs": [],
   "source": [
    "vid_notebook(folder, 0, skip=10)"
   ]
  },
  {
   "cell_type": "code",
   "execution_count": null,
   "metadata": {},
   "outputs": [],
   "source": [
    "def get_K(field, q, con):\n",
    "    r, u = con[\"r\"], con[\"u\"]\n",
    "    phiq = 1j*q * ifft2(field)\n",
    "    phi = fft2(phiq)\n",
    "    return u * phi**2 / 2"
   ]
  },
  {
   "cell_type": "code",
   "execution_count": null,
   "metadata": {},
   "outputs": [],
   "source": [
    "fn = \"varphi\"\n",
    "field_av = get_field(folder + \"{m}/\".format(m = 1), fn)\n",
    "for i in range(1, num):\n",
    "    field_av += get_field(folder + \"{m}/\".format(m=i+1), fn)\n",
    "field_av = field_av / num\n",
    "field_av = np.mean(field_av, axis=1)[:, None]"
   ]
  },
  {
   "cell_type": "code",
   "execution_count": null,
   "metadata": {},
   "outputs": [],
   "source": [
    "fig, ax = plt.subplots(figsize=(5,3)) \n",
    "plt.plot(field_av[:,0])"
   ]
  },
  {
   "cell_type": "code",
   "execution_count": null,
   "metadata": {},
   "outputs": [],
   "source": [
    "run_folder = folder + \"{m}/\".format(m = 3)\n",
    "field = get_field(run_folder, fn) - field_av\n",
    "param = get_para(run_folder)\n",
    "run_folder = folder+\"{}/\".format(1)\n",
    "X, d, N, L, T, dt, con = param\n",
    "a, figv = anim_fields_array([field,], param, skip=10, size=4, interval=50)\n",
    "figv.tight_layout()\n",
    "display(HTML(a.to_jshtml()))\n",
    "plt.close(figv)"
   ]
  },
  {
   "cell_type": "code",
   "execution_count": null,
   "metadata": {},
   "outputs": [],
   "source": [
    "print(L, N, T, con[\"u\"])"
   ]
  },
  {
   "cell_type": "code",
   "execution_count": null,
   "metadata": {},
   "outputs": [],
   "source": [
    "def get_w2(seed, folder, start=1):\n",
    "    run_folder = folder + \"{m}/\".format(m = seed)\n",
    "    X, d, N, L, T, dt, con = get_para(run_folder)\n",
    "    time = get_time(run_folder)\n",
    "\n",
    "    field = get_field(run_folder, fn)\n",
    "    nt, nx = np.shape(field)\n",
    "    lnt = int(np.log2(nt))\n",
    "    lnx = int(np.log2(nx))\n",
    "    w2 = np.zeros((lnt-start, lnx-start))\n",
    "\n",
    "    for i in range(start,lnt): # Time step\n",
    "        ii = 2**(i+1)\n",
    "        for j in range(start,lnx):\n",
    "            jj = 2**(j+1)   # points in window\n",
    "            nw = nx//jj     # Number of windows in the system\n",
    "            for k in range(nw):\n",
    "                i1, i2 = k*jj, (k+1)*jj\n",
    "                htx = field[ii, i1:i2]\n",
    "                w2[i-start,j-start] += (np.mean(htx**2) - np.mean(htx)**2) / nw\n",
    "\n",
    "    xx = np.array([X[0][2**(j+1)-1] for j in range(start,lnx)])\n",
    "    tt = np.array([time[2**(i+1)] for i in range(start,lnt)])\n",
    "\n",
    "    return w2, xx, tt"
   ]
  },
  {
   "cell_type": "code",
   "execution_count": null,
   "metadata": {},
   "outputs": [],
   "source": [
    "w2, xx, tt = get_w2(1, folder)\n",
    "for i in range(1, num): w2 += get_w2(i+1, folder)[0]\n",
    "w = np.sqrt(w2 / num)\n",
    "\n",
    "nt, nx = np.shape(w)\n",
    "print(nt,nx)"
   ]
  },
  {
   "cell_type": "code",
   "execution_count": null,
   "metadata": {},
   "outputs": [],
   "source": [
    "NN = -2\n",
    "MM = None\n",
    "b, c = np.polyfit(np.log(tt[MM:NN]), np.log(w[MM:NN,-1]), 1)\n",
    "fig, ax = plt.subplots()\n",
    "ax.plot(tt, np.exp(c)*tt**b, label='$\\\\beta = {b:.3f}$'.format(b=b))\n",
    "ax.loglog(tt, w[:, -1], 'xk', label='$\\\\ell = L_{\\\\mathrm{sys}}$')\n",
    "ax.legend()\n",
    "ax.set_xlabel(\"$t$\")\n",
    "ax.set_ylabel(\"$w_\\\\ell(t)$\")\n",
    "ax.set_yticks([], minor=True)\n",
    "plt.show()"
   ]
  },
  {
   "cell_type": "code",
   "execution_count": null,
   "metadata": {},
   "outputs": [],
   "source": [
    "NN = 4\n",
    "MM = None\n",
    "X, Y = xx, w[-1]\n",
    "a, c = np.polyfit(np.log(X[MM:NN]), np.log(Y[MM:NN]), 1)\n",
    "fig, ax = plt.subplots()\n",
    "ax.plot(X, np.exp(c)*X**a, label='$\\\\alpha = {a:.3f}$'.format(a=a))\n",
    "ax.loglog(X, Y, 'xk', label='$\\\\ell = L_{\\\\mathrm{sys}}$')\n",
    "ax.legend()\n",
    "ax.set_xlabel(\"$t$\")\n",
    "ax.set_ylabel(\"$w_\\\\ell(t)$\")\n",
    "ax.set_yticks([], minor=True)\n",
    "plt.show()"
   ]
  },
  {
   "cell_type": "code",
   "execution_count": null,
   "metadata": {},
   "outputs": [],
   "source": [
    "a = 1/2\n",
    "b = 1/3\n",
    "\n",
    "z = a / b\n",
    "print(a, b, z)"
   ]
  },
  {
   "cell_type": "code",
   "execution_count": null,
   "metadata": {},
   "outputs": [],
   "source": [
    "fig, ax = plt.subplots(figsize=(4, 3))\n",
    "fig2, ax2 = plt.subplots(figsize=(4, 3))\n",
    "fig3, ax3 = plt.subplots(figsize=(4, 3))\n",
    "ax3.set_xlabel(\"$\\\\mathrm{log}_{10} \\\\, t/\\\\ell^z$\")\n",
    "ax3.set_ylabel(\"$\\\\mathrm{log}_{10} \\\\, w_\\\\ell(t)/\\\\ell^\\\\alpha$\")\n",
    "\n",
    "\n",
    "for i in range(nx):\n",
    "    L = xx[i]\n",
    "    ax.loglog(tt, w[:,i], '.-', lw=.5, ms=10,color=cm.viridis(i/(nx-1)))\n",
    "    ax2.loglog(tt, w[:,i]/L**a, '.-', lw=.5, ms=10,color=cm.viridis(i/(nx-1)))\n",
    "    ax3.loglog(tt/L**z, w[:,i]/L**a, '.-', lw=.5, ms=10,color=cm.viridis(i/(nx-1)))\n",
    "\n",
    "TT = np.array([5e-5, 1e-2])\n",
    "ax3.plot(TT, TT**b/9e0, 'k--', lw=1.5)\n",
    "ax3.text(3e-5,8e-3, \"$\\\\beta = {b:.3f}$\".format(b=b), rotation=58)\n",
    "\n",
    "ax.tick_params(direction='in')\n",
    "ax.tick_params(direction='in', which=\"minor\")\n",
    "\n",
    "ax3.tick_params(direction='in')\n",
    "ax3.tick_params(direction='in', which=\"minor\")\n",
    "\n",
    "yt = ax3.get_yticks()\n",
    "ax3.set_yticklabels(np.array(np.log10(yt), dtype=int))\n",
    "\n",
    "xt = ax3.get_xticks()\n",
    "ax3.set_xticklabels(np.array(np.log10(xt), dtype=int))\n",
    "plt.show()"
   ]
  },
  {
   "cell_type": "code",
   "execution_count": null,
   "metadata": {},
   "outputs": [],
   "source": [
    "fig, ax = plt.subplots(figsize=(8, 6))\n",
    "ax.set_xlabel(\"$\\\\ell$\")\n",
    "ax.set_ylabel(\"$w_t(\\\\ell)$\")\n",
    "\n",
    "ws = []\n",
    "ls = []\n",
    "\n",
    "i = -1\n",
    "\n",
    "dy = np.log(w[i,2]) - np.log(w[i,0])\n",
    "dx = np.log(xx[2]) -  np.log(xx[0])\n",
    "A = dy/dx\n",
    "X = np.log(xx[[0,-1]])\n",
    "B = np.log(w[i,0]) - A * np.log(xx[0])\n",
    "Y = A * np.log(xx[[0,-1]]) + B\n",
    "ax.plot(np.exp(X), np.exp(Y), 'k', lw=1, zorder=10)\n",
    "\n",
    "for i in range(nt):\n",
    "    T = tt[i]\n",
    "    ax.loglog(xx, w[i,:], '.-', lw=.5, ms=10,color=cm.viridis((i+1)/nt))\n",
    "    \n",
    "    wsat = w[i, -1]\n",
    "    ws.append(wsat)\n",
    "    ax.plot(xx[[0,-1]], [wsat,wsat], 'k', lw=1)\n",
    "    lsat = np.exp((np.log(wsat) - B) / A)\n",
    "    ls.append(lsat)\n",
    "    plt.plot(lsat, wsat, 'rx')\n",
    "\n",
    "ls, ws = np.array(ls), np.array(ws)\n",
    "ax.set_ylim(np.min(w)/1.1, np.max(w)*1.1)\n",
    "plt.show()\n",
    "\n",
    "fig, ax = plt.subplots()\n",
    "plt.loglog(ls, tt, 'xk')\n",
    "\n",
    "NN, MM = -3, None\n",
    "z, c = np.polyfit(np.log(ls[MM:NN]), np.log(tt[MM:NN]), 1)\n",
    "ax.plot(ls, np.exp(c)*ls**z, label='$z = {z:.3f}$'.format(z=z))\n",
    "\n",
    "ax.legend()\n",
    "ax.set_xlabel(\"$L_\\\\mathrm{sat}$\")\n",
    "ax.set_ylabel(\"$t_\\\\times$\")\n",
    "ax.set_yticklabels([], minor=True)\n",
    "ax.set_xticklabels([], minor=True)\n",
    "plt.show()"
   ]
  },
  {
   "cell_type": "code",
   "execution_count": null,
   "metadata": {},
   "outputs": [],
   "source": [
    "fig, ax     = plt.subplots(figsize=(4, 3)) \n",
    "fig2, ax2   = plt.subplots(figsize=(4, 3))\n",
    "fig3, ax3   = plt.subplots(figsize=(4, 3))\n",
    "ax3.set_xlabel(\"$\\\\ell/t^{2\\\\beta}$\")\n",
    "ax3.set_ylabel(\"$w _t(\\\\ell)/t^{\\\\beta}$\")\n",
    "\n",
    "for i in range(nt):\n",
    "    T = tt[i]\n",
    "    ax.loglog(xx, w[i,:], '.-', lw=.5, ms=10,color=cm.viridis((i+1)/nt))\n",
    "    ax2.loglog(xx, w[i,:]/T**b, '.-', lw=.5, ms=10,color=cm.viridis((i+1)/nt))\n",
    "    ax3.loglog(xx/T**(2*b), w[i,:]/T**b, '.-', lw=.5, ms=10,color=cm.viridis((i+1)/nt))\n",
    "\n",
    "TT = np.array([4e-2, 5e0])\n",
    "ax3.plot(TT, TT**a/2e1, 'k--')\n",
    "ax.set_yticklabels([], minor=True)\n",
    "ax.tick_params(direction='in')\n",
    "ax.tick_params(direction='in', which=\"minor\")\n"
   ]
  },
  {
   "cell_type": "code",
   "execution_count": null,
   "metadata": {},
   "outputs": [],
   "source": []
  }
 ],
 "metadata": {
  "kernelspec": {
   "display_name": "Python 3",
   "language": "python",
   "name": "python3"
  },
  "language_info": {
   "codemirror_mode": {
    "name": "ipython",
    "version": 3
   },
   "file_extension": ".py",
   "mimetype": "text/x-python",
   "name": "python",
   "nbconvert_exporter": "python",
   "pygments_lexer": "ipython3",
   "version": "3.12.3"
  }
 },
 "nbformat": 4,
 "nbformat_minor": 2
}
