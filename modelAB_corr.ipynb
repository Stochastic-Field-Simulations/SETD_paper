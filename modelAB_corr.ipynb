{
 "cells": [
  {
   "cell_type": "code",
   "execution_count": null,
   "metadata": {},
   "outputs": [],
   "source": [
    "from numpy.fft import rfft, rfftfreq, irfft, fftshift\n",
    "from SFS.src.py.utils import *"
   ]
  },
  {
   "cell_type": "code",
   "execution_count": null,
   "metadata": {},
   "outputs": [],
   "source": [
    "fig, ax = plt.subplots(1, 2, figsize=(11,4), sharey=True)\n",
    "\n",
    "for j, number in enumerate([1, 2]):\n",
    "\n",
    "    folder = \"data/SETD_paper/{number}/\".format(number = number)\n",
    "    n = count_files(folder) \n",
    "    time = get_time(folder + \"1/\")\n",
    "\n",
    "    rr = []\n",
    "    for i in range(n):\n",
    "        seed = i + 1\n",
    "        q, Cq, con, T, L, N, dt = get_Cq_saved(folder, seed=seed)\n",
    "        Cq = np.mean(Cq, axis=0)\n",
    "\n",
    "        AA = (len(q)*2)//3\n",
    "        r = con[\"r\"]\n",
    "        rr.append(r)\n",
    "\n",
    "        color = cm.viridis(i/(n-1))\n",
    "\n",
    "        ax[j].loglog(q[1:AA], np.real(Cq[1:AA, 0, 0]), '-', lw=1.5,  color=color, zorder=2, alpha=.5)\n",
    "        ax[j].loglog(logspaced(q[1:AA]), logspaced(np.real(Cq[1:AA, 0, 0])), '.', ms=12,  color=color, zorder=2, alpha=.5)\n",
    "\n",
    "        q = np.linspace(q[1], q[AA], 100)\n",
    "        if i == 0: ax[j].loglog(q, T / (q**2 + r), 'k--', zorder=1, lw=1, label=\"$\\\\frac{D}{k^2 + r}$\")\n",
    "        else: ax[j].loglog(q, T / (q**2 + r), 'k--', zorder=1, lw=1)\n",
    "\n",
    "\n",
    "    q, Cq, con, T, L, N, dt = get_Cq_saved(folder, seed=seed)\n",
    "    u = con[\"u\"]\n",
    "\n",
    "    title = \"$u = {u}, N = {N}, L = {L}, T={T}, t={t:1.0e} $\".format(u=u,N=N,L=L, T=T,t=time[-1])\n",
    "    print(title)\n",
    "    \n",
    "    ax[j].set_xlabel(\"$k$\")\n",
    "    if j==0:\n",
    "        ax[j].set_ylabel(\"$C_\\\\mathrm{ET}(k)$\")\n",
    "\n",
    "\n",
    "\n",
    "cbar = fig.colorbar(\n",
    "    cm.ScalarMappable(norm=colors.LogNorm(vmin=np.min(np.abs(rr)), vmax=np.max(np.abs(rr))), \n",
    "    cmap=cm.viridis_r), ax=ax, label=\"$r$\",\n",
    "    )\n",
    "\n",
    "ax[0].legend(fontsize=22)\n",
    "ax[0].tick_params(direction='in')\n",
    "ax[0].tick_params(direction='in', which=\"minor\")\n",
    "ax[1].tick_params(direction='in')\n",
    "ax[1].tick_params(direction='in', which=\"minor\")\n",
    "plt.subplots_adjust(wspace=0.05)\n",
    "cbar.ax.set_position([0.92, 0.15, 0.02, 0.7])  # Adjust colorbar position [left, bottom, width, height]\n",
    "label(ax)\n",
    "fig.savefig(\"fig/fig1.pdf\", bbox_inches=\"tight\")\n",
    "plt.show()"
   ]
  }
 ],
 "metadata": {
  "kernelspec": {
   "display_name": ".venv",
   "language": "python",
   "name": "python3"
  },
  "language_info": {
   "codemirror_mode": {
    "name": "ipython",
    "version": 3
   },
   "file_extension": ".py",
   "mimetype": "text/x-python",
   "name": "python",
   "nbconvert_exporter": "python",
   "pygments_lexer": "ipython3",
   "version": "3.10.12"
  }
 },
 "nbformat": 4,
 "nbformat_minor": 4
}
