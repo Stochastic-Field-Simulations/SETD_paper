{
 "cells": [
  {
   "cell_type": "code",
   "execution_count": null,
   "metadata": {},
   "outputs": [],
   "source": [
    "from numpy.fft import rfft, rfftfreq, irfft, fftshift\n",
    "from SFS.src.py.utils import *"
   ]
  },
  {
   "cell_type": "code",
   "execution_count": null,
   "metadata": {},
   "outputs": [],
   "source": [
    "plt.rcParams[\"animation.html\"] = \"jshtml\" \n",
    "plt.rcParams['figure.dpi'] = 150"
   ]
  },
  {
   "cell_type": "code",
   "execution_count": null,
   "metadata": {},
   "outputs": [],
   "source": [
    "fig, ax = plt.subplots(1, 2, figsize=(10,3), sharey=True)\n",
    "\n",
    "for j, number in enumerate([1, 2]):\n",
    "\n",
    "    folder = \"data/SETD_paper/{number}/\".format(number = number)\n",
    "    n = count_files(folder) \n",
    "    time = get_time(folder + \"1/\")\n",
    "\n",
    "    rr = []\n",
    "    for i in range(n):\n",
    "        seed = i + 1\n",
    "        q, Cq, con, T, L, N, dt = get_Cq_saved(folder, seed=seed)\n",
    "        Cq = np.mean(Cq, axis=0)\n",
    "\n",
    "        AA = (len(q)*2)//3\n",
    "        time\n",
    "        r = con[\"r\"]\n",
    "        rr.append(r)\n",
    "\n",
    "        color = cm.viridis((i)/(n-1))\n",
    "\n",
    "        ax[j].loglog(q[1:AA], np.real(Cq[1:AA, 0, 0]), '-', marker=\".\", ms=4, lw=1,  color=color, zorder=2, alpha=.5)\n",
    "\n",
    "        q = np.linspace(q[1], q[AA], 100)\n",
    "        if i == 0: ax[j].loglog(q, T / (q**2 + r), 'k--', zorder=1, lw=.7, label=\"$\\\\frac{D}{k^2 + r}$\")\n",
    "        else: ax[j].loglog(q, T / (q**2 + r), 'k--', zorder=1, lw=.7)\n",
    "\n",
    "\n",
    "    q, Cq, con, T, L, N, dt = get_Cq_saved(folder, seed=seed)\n",
    "    u = con[\"u\"]\n",
    "\n",
    "    title = \"$u = {u}, N = {N}, L = {L}, T={T}, t={t:1.0e} $\".format(u=u,N=N,L=L, T=T,t=time[-1])\n",
    "    \n",
    "    ax[j].set_xlabel(\"$\\\\mathrm{log}_{10} k$\")\n",
    "    if j==0:\n",
    "        ax[j].set_ylabel(\"$\\\\mathrm{log}_{10} C_\\\\mathrm{ET}(k)$\")\n",
    "\n",
    "cbar = fig.colorbar(\n",
    "    cm.ScalarMappable(norm=colors.LogNorm(vmin=np.min(np.abs(rr)), vmax=np.max(np.abs(rr))), \n",
    "    cmap=cm.viridis_r), ax=ax, label=\"$\\\\mathrm{log}_{10} \\\\, r$\",\n",
    "    )\n",
    "\n",
    "plt.legend()\n",
    "\n",
    "yt = ax[0].get_yticks()\n",
    "ax[0].set_yticklabels(np.array(np.log10(yt), dtype=int))\n",
    "ax[1].set_yticklabels(np.array(np.log10(yt), dtype=int))\n",
    "\n",
    "xt = ax[0].get_xticks()\n",
    "ax[0].set_xticklabels(np.array(np.log10(xt), dtype=int))\n",
    "ax[1].set_xticklabels(np.array(np.log10(xt), dtype=int),minor=\"on\")\n",
    "\n",
    "ticks = cbar.get_ticks()\n",
    "norm = (ticks <= np.max(np.abs(rr))) & (ticks >= np.min(np.abs(rr)))\n",
    "ticks = ticks[norm]\n",
    "\n",
    "lticks = np.array(np.log10(ticks), dtype=int)\n",
    "cbar.set_ticks(ticks=ticks,labels=lticks)\n",
    "\n",
    "ax[0].tick_params(direction='in')\n",
    "ax[0].tick_params(direction='in', which=\"minor\")\n",
    "ax[1].tick_params(direction='in')\n",
    "ax[1].tick_params(direction='in', which=\"minor\")\n",
    "\n",
    "\n",
    "plt.savefig(\"fig/fig1.pdf\", bbox_inches=\"tight\")\n",
    "plt.show()"
   ]
  },
  {
   "cell_type": "code",
   "execution_count": null,
   "metadata": {},
   "outputs": [],
   "source": []
  }
 ],
 "metadata": {
  "kernelspec": {
   "display_name": "Python 3",
   "language": "python",
   "name": "python3"
  },
  "language_info": {
   "codemirror_mode": {
    "name": "ipython",
    "version": 3
   },
   "file_extension": ".py",
   "mimetype": "text/x-python",
   "name": "python",
   "nbconvert_exporter": "python",
   "pygments_lexer": "ipython3",
   "version": "3.10.12"
  }
 },
 "nbformat": 4,
 "nbformat_minor": 4
}
